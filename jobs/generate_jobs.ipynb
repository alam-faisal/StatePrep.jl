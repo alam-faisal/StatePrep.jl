{
 "cells": [
  {
   "cell_type": "code",
   "execution_count": 2,
   "id": "098f8a74",
   "metadata": {
    "ExecuteTime": {
     "end_time": "2024-11-12T18:53:38.785350Z",
     "start_time": "2024-11-12T18:53:38.104648Z"
    }
   },
   "outputs": [],
   "source": [
    "from itertools import combinations\n",
    "import numpy as np"
   ]
  },
  {
   "cell_type": "code",
   "execution_count": 3,
   "id": "7048b6e6",
   "metadata": {
    "ExecuteTime": {
     "end_time": "2024-11-12T18:53:38.819915Z",
     "start_time": "2024-11-12T18:53:38.785350Z"
    }
   },
   "outputs": [],
   "source": [
    "def ancillae(n,a,sublists): \n",
    "    all_combs = list(combinations([i+1 for i in range(n+a)], a))\n",
    "    valid_combs = all_combs if sublists is None else [combs for combs in all_combs \n",
    "                                                      if any(set(sublist) <= set(combs) for sublist in sublists)]\n",
    "    print(len(valid_combs))\n",
    "    return valid_combs\n",
    "\n",
    "def generate_job(n, a, sublists, targ_type, d, inits=10, instances=1):\n",
    "    valid_combs = ancillae(n, a, sublists)\n",
    "    lines = [f'{targ_type} {n} {str(list(comb)).replace(\" \", \"\")} {d} {inits} {i}\\n' \n",
    "    for i in range(1, instances + 1) \n",
    "    for comb in valid_combs\n",
    "    ]\n",
    "    lines[-1] = lines[-1].rstrip()\n",
    "    \n",
    "    argsfile = f\"args_{targ_type}_{n}_{a}_{d}.txt\"\n",
    "    with open(argsfile, 'w') as file:\n",
    "        file.writelines(lines)"
   ]
  },
  {
   "cell_type": "markdown",
   "id": "8c05efd3",
   "metadata": {},
   "source": [
    "# Subset states, n = 8, k = 4"
   ]
  },
  {
   "cell_type": "code",
   "execution_count": 4,
   "id": "eada2722",
   "metadata": {
    "ExecuteTime": {
     "end_time": "2024-11-12T18:54:32.299697Z",
     "start_time": "2024-11-12T18:54:32.285723Z"
    }
   },
   "outputs": [
    {
     "name": "stdout",
     "output_type": "stream",
     "text": [
      "9\n"
     ]
    }
   ],
   "source": [
    "generate_job(8, 1, None, \"ss\", 2, inits=15, instances=1)"
   ]
  },
  {
   "cell_type": "markdown",
   "id": "61ed35e5",
   "metadata": {},
   "source": [
    "# Others"
   ]
  },
  {
   "cell_type": "code",
   "execution_count": null,
   "id": "f5011058",
   "metadata": {},
   "outputs": [],
   "source": []
  }
 ],
 "metadata": {
  "kernelspec": {
   "display_name": "Python [conda env:snowflakes] *",
   "language": "python",
   "name": "conda-env-snowflakes-py"
  },
  "language_info": {
   "codemirror_mode": {
    "name": "ipython",
    "version": 3
   },
   "file_extension": ".py",
   "mimetype": "text/x-python",
   "name": "python",
   "nbconvert_exporter": "python",
   "pygments_lexer": "ipython3",
   "version": "3.9.13"
  },
  "toc": {
   "base_numbering": 1,
   "nav_menu": {},
   "number_sections": true,
   "sideBar": true,
   "skip_h1_title": false,
   "title_cell": "Table of Contents",
   "title_sidebar": "Contents",
   "toc_cell": false,
   "toc_position": {},
   "toc_section_display": true,
   "toc_window_display": false
  }
 },
 "nbformat": 4,
 "nbformat_minor": 5
}
