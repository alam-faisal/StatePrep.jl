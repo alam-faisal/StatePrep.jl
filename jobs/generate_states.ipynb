{
 "cells": [
  {
   "cell_type": "code",
   "execution_count": 3,
   "id": "8d937084",
   "metadata": {
    "ExecuteTime": {
     "end_time": "2024-11-12T10:31:11.592000-07:00",
     "start_time": "2024-11-12T17:31:09.117Z"
    }
   },
   "outputs": [],
   "source": [
    "using Revise \n",
    "include(\"/Users/alamf/1Jupyter/current_projects/StatePrep.jl/src/models.jl\")\n",
    "include(\"/Users/alamf/1Jupyter/current_projects/StatePrep.jl/src/train_sqc.jl\")\n",
    "include(\"/Users/alamf/1Jupyter/current_projects/StatePrep.jl/src/train_dqc.jl\")\n",
    "using JLD"
   ]
  },
  {
   "cell_type": "code",
   "execution_count": null,
   "id": "293e750c",
   "metadata": {},
   "outputs": [],
   "source": []
  },
  {
   "cell_type": "markdown",
   "id": "aa02d395",
   "metadata": {},
   "source": [
    "# Subset state, n = 8, k = 4"
   ]
  },
  {
   "cell_type": "code",
   "execution_count": 5,
   "id": "f8a73b33",
   "metadata": {
    "ExecuteTime": {
     "end_time": "2024-11-12T10:32:24.666000-07:00",
     "start_time": "2024-11-12T17:32:24.635Z"
    }
   },
   "outputs": [
    {
     "data": {
      "text/plain": [
       "MPS\n",
       "[1] ((dim=2|id=551|\"Qubit,Site,n=1\"), (dim=4|id=775|\"Link,l=1\"))\n",
       "[2] ((dim=2|id=12|\"Qubit,Site,n=2\"), (dim=4|id=615|\"Link,l=2\"), (dim=4|id=775|\"Link,l=1\"))\n",
       "[3] ((dim=2|id=540|\"Qubit,Site,n=3\"), (dim=4|id=694|\"Link,l=3\"), (dim=4|id=615|\"Link,l=2\"))\n",
       "[4] ((dim=2|id=192|\"Qubit,Site,n=4\"), (dim=4|id=369|\"Link,l=4\"), (dim=4|id=694|\"Link,l=3\"))\n",
       "[5] ((dim=2|id=516|\"Qubit,Site,n=5\"), (dim=4|id=790|\"Link,l=5\"), (dim=4|id=369|\"Link,l=4\"))\n",
       "[6] ((dim=2|id=543|\"Qubit,Site,n=6\"), (dim=3|id=721|\"Link,l=6\"), (dim=4|id=790|\"Link,l=5\"))\n",
       "[7] ((dim=2|id=84|\"Qubit,Site,n=7\"), (dim=2|id=674|\"Link,l=7\"), (dim=3|id=721|\"Link,l=6\"))\n",
       "[8] ((dim=2|id=902|\"Qubit,Site,n=8\"), (dim=2|id=674|\"Link,l=7\"))\n"
      ]
     },
     "execution_count": 5,
     "metadata": {},
     "output_type": "execute_result"
    }
   ],
   "source": [
    "targ_type = \"ss\"\n",
    "n = 8\n",
    "k = 4\n",
    "dir = \"/Users/alamf/1Jupyter/current_projects/StatePrep.jl/jobs\"\n",
    "instance = 1\n",
    "\n",
    "targ_mps = model_mps(targ_type, n, k=k, dir=dir, instance=instance)"
   ]
  },
  {
   "cell_type": "code",
   "execution_count": 6,
   "id": "3dbafeba",
   "metadata": {
    "ExecuteTime": {
     "end_time": "2024-11-12T10:34:10.451000-07:00",
     "start_time": "2024-11-12T17:32:47.458Z"
    }
   },
   "outputs": [],
   "source": [
    "n_layers = 2\n",
    "ansatz = generate_sqc_ansatz(targ_mps, n_layers; data=\"gates\")\n",
    "filename = \"debug.jld\"\n",
    "s_cost_list, circ = sqc_svd(targ_mps, ansatz; num_sweeps=9000, quiet=false);"
   ]
  },
  {
   "cell_type": "code",
   "execution_count": 7,
   "id": "db1ec599",
   "metadata": {
    "ExecuteTime": {
     "end_time": "2024-11-12T10:34:55.889000-07:00",
     "start_time": "2024-11-12T17:34:54.413Z"
    }
   },
   "outputs": [
    {
     "data": {
      "text/plain": [
       "29-element Vector{Float64}:\n",
       " 0.9419221913796857\n",
       " 0.34167338060445573\n",
       " 0.2862190984541738\n",
       " 0.24914066972515603\n",
       " 0.19914474138585747\n",
       " 0.18139691267032243\n",
       " 0.17792511561625846\n",
       " 0.17624852037690664\n",
       " 0.17506790601481048\n",
       " 0.17419349281834484\n",
       " 0.17355148426895395\n",
       " 0.1730858151475657\n",
       " 0.17274997777520595\n",
       " ⋮\n",
       " 0.17205676600223974\n",
       " 0.17201113324249673\n",
       " 0.17197850303003936\n",
       " 0.17195517661309923\n",
       " 0.17193849053009846\n",
       " 0.17192654048472455\n",
       " 0.1719179739660639\n",
       " 0.17191182500431212\n",
       " 0.17190740752032396\n",
       " 0.1719042298404425\n",
       " 0.17190194160675498\n",
       " 0.1719002922296462"
      ]
     },
     "execution_count": 7,
     "metadata": {},
     "output_type": "execute_result"
    }
   ],
   "source": [
    "s_cost_list "
   ]
  },
  {
   "cell_type": "markdown",
   "id": "6042cedd",
   "metadata": {},
   "source": [
    "# Subset state, n = 10, k = 4 "
   ]
  },
  {
   "cell_type": "code",
   "execution_count": null,
   "id": "0865b848",
   "metadata": {},
   "outputs": [],
   "source": []
  },
  {
   "cell_type": "code",
   "execution_count": null,
   "id": "58a6f22c",
   "metadata": {},
   "outputs": [],
   "source": []
  }
 ],
 "metadata": {
  "kernelspec": {
   "display_name": "Julia 1.8.2",
   "language": "julia",
   "name": "julia-1.8"
  },
  "language_info": {
   "file_extension": ".jl",
   "mimetype": "application/julia",
   "name": "julia",
   "version": "1.8.2"
  },
  "toc": {
   "base_numbering": 1,
   "nav_menu": {},
   "number_sections": true,
   "sideBar": true,
   "skip_h1_title": false,
   "title_cell": "Table of Contents",
   "title_sidebar": "Contents",
   "toc_cell": false,
   "toc_position": {},
   "toc_section_display": true,
   "toc_window_display": false
  }
 },
 "nbformat": 4,
 "nbformat_minor": 5
}
